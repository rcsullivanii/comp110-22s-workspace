{
 "cells": [
  {
   "cell_type": "markdown",
   "metadata": {},
   "source": [
    "# Analysis for Continuous Improvement\n",
    "\n",
    "Author Name: Robert Sullivan\n",
    "\n",
    "9-digit PID: 730472431\n",
    "\n",
    "Continuous Improvement embraces a belief there is _always room to make things better_. It is a mindset and process we value and practice in this course. In this assignment, you are able to practice continuous improvement and contribute to the design ideas of the course.\n",
    "\n",
    "## Brainstorming Ideas\n",
    "\n",
    "Reflect on your personal experiences and observations in COMP110 and **brainstorm modifications to the course that _create value_ beyond its current design**. When brainstorming, try not to be critical of the ideas you come up with regarding scale, stakeholders impacted, or for any other reasons. In the markdown cell below, brainstorm 3 to 5 ideas you think would create value for you.\n",
    "\n",
    "Each brainstormed idea should state a. the suggested change or addition, b. what the expected value created, and c. which specific stakeholders would benefit.  If helpful, expand on the following template \"The course should (state idea here) because it will (state value created here) for (insert stakeholders here).\"\n",
    "\n",
    "Example A: \"The course should use only examples from psychology experiments because it will be more relevant for students who are psychology majors.\"\n",
    "\n",
    "Example B: \"The course should not have post-lesson questions because they are not useful for most students in the class.\""
   ]
  },
  {
   "cell_type": "markdown",
   "metadata": {},
   "source": [
    "### Part 1. Creative Ideation\n",
    "\n",
    "1. The course should include a group project because it would resemeble the type of task interns may be asked to complete for prospective interns/comp majors.  \n",
    "2. The course should introduce timed quizes that are taken on vs code and resemeble what might be otherwise asked on traditional paper tests because it will mimic the stressful coding environment internship interviews may prompt as well as eliminate some syntax errors that appear on paper tests. This would be applicable to all students in the class and beneficial to most students in the class as well as societal workforce. \n",
    "3. The course should redistribute the grading breakdown to place a greater emphasis on projects rather than exams because ultimately coding is the most influential tell in a programmer's understanding of a language. This would help students because they would allocate more time actually coding rather than preparing for concepts exams stress more comparatively like syntax vs. actual program development thus propelling the and societal workforce. It would also ease the hand grading for instructional staff. \n",
    "4. The course should increase its instructural pace in order to have time at the end of the semester to introduce data structure principals because it will help ease the transition to higher level comp classes for comp majors. \n",
    "5. The course should have more readings because it will increase the intellectual interest of the course and give students more of an exposure to different facets within computer science, which is an incredibly ubiquitous subject area. It will draw more interest to the program and thus propel the academic instituion and help students."
   ]
  },
  {
   "cell_type": "markdown",
   "metadata": {},
   "source": [
    "## Connecting with Available Data\n",
    "\n",
    "The data you have available for this analysis is limited to the anonymized course survey you and your peers filled out a few weeks ago. The data is found in the `survey.csv` file in this exercise directory. Each row represents an individual survey response. Each column has a description which can be found on the project write-up here: <https://22s.comp110.com/exercises/ex08.html>\n",
    "\n",
    "Review the list of available data and identify which one of your ideas _does not_, or is _least likely to_, have relevant data to support the analysis of your idea to create value. In the box below, identify which of your ideas lacks data and suggest how we might be able to collect this data in the future. One aspect of _continuous improvement_ is trying to avoid \"tunnel vision\" where possible improvements are not considered because there is no data available to analyze it. Identifying new data sources can unlock improvements!"
   ]
  },
  {
   "cell_type": "markdown",
   "metadata": {},
   "source": [
    "### Part 2. Identifying Missing Data\n",
    "\n",
    "1. Idea without sufficient data to analyze:\n",
    "The course should increase its instructural pace in order to have time at the end of the semester to introduce datta structure principals because it will help ease the transition to higher level comp classes for comp majors.\n",
    "2. Suggestion for how to collect data to support this idea in the future: \n",
    "Surveying comp 210 majors who took comp 110 as the prerequisite. Important questions might be their percieved level of preparedness, the difference in instructural pace, etc."
   ]
  },
  {
   "cell_type": "markdown",
   "metadata": {},
   "source": [
    "## Choosing an Idea to Analyze\n",
    "\n",
    "Consider those of your ideas which _do_ seem likely to have relevant data to analyze. If none of your ideas do, spend a few minutes and brainstorm another idea or two with the added connection of data available on hand and add those ideas to your brainstormed ideas list.\n",
    "\n",
    "Select the one idea which you believe is _most valuable_ to analyze relative to the others and has data to support the analysis of. In the markdown cell for Part 3 below, identify the idea you are exploring and articulate why you believe it is most valuable (e.g. widest impact, biggest opportunity for improvement, simplest change for significant improvement, and so on)."
   ]
  },
  {
   "cell_type": "markdown",
   "metadata": {},
   "source": [
    "### Part 3. Choosing Your Analysis\n",
    "\n",
    "1. Idea to analyze with available data: The course should redistribute the grading breakdown to place a greater emphasis on projects rather than exams because ultimately coding is the most influential tell in a programmer's understanding of a language. This would help students because they would allocate more time actually coding rather than preparing for concepts exams stress more comparatively like syntax vs. actual program development. \n",
    "\n",
    "2. This idea is more valuable than the others brainstormed because: The available data will be able to either support or refute my suggestion more visibly (the data fits much better comparatively). I plan at analyzing qz_effective and programming_effective to compare what students feel is more effective in helping students learn the topics of the course. I think it might also be interesting to include own_notes vs own_examples because it is an extension of the paper vs programming debate I'm targeting with my analysis. It has big implications in the value of the class because students will finish with more application based experiences. The workforce will thus have better prepared applicants and job holders. All the value created makes it more important to analyze than the other 4 suggestions."
   ]
  },
  {
   "cell_type": "markdown",
   "metadata": {},
   "source": [
    "## Your Analysis\n",
    "\n",
    "Before you begin analysis, a reminder that we do not expect the data to support everyone's ideas and you can complete this exercise for full credit even if the data does not clearly support your suggestion or even completely refutes it. What we are looking for is a logical attempt to explore the data using the techniques you have learned up until now in a way that _either_ supports, refutes, or does not have a clear result and then to reflect on your findings after the analysis.\n",
    "\n",
    "Using the utility functions you created for the previous exercise, you will continue with your analysis in the following part. Before you begin, refer to the rubric on the technical expectations of this section in the exercise write-up.\n",
    "\n",
    "In this section, you are expected to interleave code and markdown cells such that for each step of your analysis you are starting with an English description of what you are planning to do next in a markdown cell, followed by a Python cell that performs that step of the analysis."
   ]
  },
  {
   "cell_type": "markdown",
   "metadata": {},
   "source": [
    "### Part 4. Analysis\n",
    "\n",
    "We begin by changing some settings in the notebook to automatically reload changes to imported files."
   ]
  },
  {
   "cell_type": "code",
   "execution_count": 94,
   "metadata": {},
   "outputs": [],
   "source": [
    "%reload_ext autoreload\n",
    "%autoreload 2"
   ]
  },
  {
   "cell_type": "markdown",
   "metadata": {},
   "source": [
    "We continue by importing the helper functions from `data_utils`."
   ]
  },
  {
   "cell_type": "code",
   "execution_count": 95,
   "metadata": {},
   "outputs": [],
   "source": [
    "from data_utils import read_csv_rows\n",
    "from data_utils import column_values\n",
    "from data_utils import columnar\n",
    "from data_utils import head\n",
    "from data_utils import select\n",
    "from data_utils import concat\n",
    "from data_utils import count"
   ]
  },
  {
   "cell_type": "markdown",
   "metadata": {},
   "source": [
    "Next, I will establish a constant that references the path to the data file."
   ]
  },
  {
   "cell_type": "code",
   "execution_count": 96,
   "metadata": {},
   "outputs": [],
   "source": [
    "SURVEY_DATA_CSV_FILE_PATH: str = \"../../data/survey.csv\""
   ]
  },
  {
   "cell_type": "markdown",
   "metadata": {},
   "source": [
    "I would like to find the average value of effectiveness that was answered for qz_effective and programming_effective. Both variables were measured on a scale of 1-7 with 1 being Strongly Disagree and 7 being Strongly Agree."
   ]
  },
  {
   "cell_type": "code",
   "execution_count": 97,
   "metadata": {},
   "outputs": [
    {
     "name": "stdout",
     "output_type": "stream",
     "text": [
      "The average score that ranked the effectiveness of quizes was: 5.109677419354838.\n",
      "The average score that ranked the effectiveness of programs was: 6.120967741935484.\n"
     ]
    }
   ],
   "source": [
    "# First, I call the read_cvs_rows to transform the cvs into a table\n",
    "data_rows: list[dict[str, str]] = read_csv_rows(SURVEY_DATA_CSV_FILE_PATH)\n",
    "\n",
    "# Next, I create a list of ints that includes the str numerical responses to \n",
    "# qz_effective\n",
    "qz_effective_str: list[str] = column_values(data_rows, \"qz_effective\")\n",
    "qz_effective: list[int] = []\n",
    "for scores in qz_effective_str:\n",
    "    i: int = int(scores)\n",
    "    qz_effective.append(i)\n",
    "\n",
    "# I will now repeat the same procress for programming_effective\n",
    "programming_effective_str: list[str] = column_values(data_rows, \"programming_effective\")\n",
    "programming_effective: list[int] = []\n",
    "for scores in programming_effective_str:\n",
    "    i: int = int(scores)\n",
    "    programming_effective.append(i)\n",
    "\n",
    "# Now, I will compute the average value in each respective list\n",
    "qz_sum: float = 0.0\n",
    "for integers in qz_effective:\n",
    "    qz_sum += integers\n",
    "qz_avg: float = qz_sum / len(qz_effective)\n",
    "\n",
    "programming_sum: float = 0.0\n",
    "for integers in programming_effective:\n",
    "    programming_sum += integers\n",
    "programming_avg: float = programming_sum / len(programming_effective)\n",
    "\n",
    "print(f\"The average score that ranked the effectiveness of quizes was: {qz_avg}.\")\n",
    "print(f\"The average score that ranked the effectiveness of programs was: {programming_avg}.\")\n"
   ]
  },
  {
   "cell_type": "markdown",
   "metadata": {},
   "source": [
    "I'd like to repeat this process for the variables own_notes and own_examples, which measures whether a student keeps own notes for topics covered in lecture and whether a student, when uncertain of how a concept works, tries to come up with own examples in code. The numerical responses are 1-7, 1 being never and 7 being always."
   ]
  },
  {
   "cell_type": "code",
   "execution_count": 98,
   "metadata": {},
   "outputs": [
    {
     "name": "stdout",
     "output_type": "stream",
     "text": [
      "The average score that ranked how often a student takes notes: 5.696774193548387.\n",
      "The average score that ranked how often a student, when uncertain of a concept, tries to come up with own examples in code: 4.817741935483871.\n"
     ]
    }
   ],
   "source": [
    "# Create a list of ints that includes the str numerical responses to \n",
    "# own_notes\n",
    "own_notes_str: list[str] = column_values(data_rows, \"own_notes\")\n",
    "own_notes: list[int] = []\n",
    "for scores in own_notes_str:\n",
    "    i: int = int(scores)\n",
    "    own_notes.append(i)\n",
    "\n",
    "# I will now repeat the same procress for own_examples\n",
    "own_examples_str: list[str] = column_values(data_rows, \"own_examples\")\n",
    "own_examples: list[int] = []\n",
    "for scores in own_examples_str:\n",
    "    i: int = int(scores)\n",
    "    own_examples.append(i)\n",
    "\n",
    "# Now, I will compute the average value in each respective list\n",
    "notes_sum: float = 0.0\n",
    "for integers in own_notes:\n",
    "    notes_sum += integers\n",
    "notes_avg: float = notes_sum / len(own_notes)\n",
    "\n",
    "examples_sum: float = 0.0\n",
    "for integers in own_examples:\n",
    "    examples_sum += integers\n",
    "examples_avg: float = examples_sum / len(own_examples)\n",
    "\n",
    "print(f\"The average score that ranked how often a student takes notes: {notes_avg}.\")\n",
    "print(f\"The average score that ranked how often a student, when uncertain of a concept, tries to come up with own examples in code: {examples_avg}.\")"
   ]
  },
  {
   "cell_type": "markdown",
   "metadata": {},
   "source": [
    "Next, I would like to produce a small snapshot of the data to anyone interested by making use of the head function! I will set n = 10. I would like to also use the tabulate function which I will import from tabulate. To make the table more relevant, I'd like to limit the columns to year, comp_major, own_notes, own_examples, programming_effective, qz_effective, understanding, interesting, valuable. "
   ]
  },
  {
   "cell_type": "code",
   "execution_count": 99,
   "metadata": {},
   "outputs": [
    {
     "data": {
      "text/html": [
       "<table>\n",
       "<thead>\n",
       "<tr><th style=\"text-align: right;\">  year</th><th>comp_major  </th><th style=\"text-align: right;\">  own_notes</th><th style=\"text-align: right;\">  own_examples</th><th style=\"text-align: right;\">  programming_effective</th><th style=\"text-align: right;\">  qz_effective</th><th style=\"text-align: right;\">  understanding</th><th style=\"text-align: right;\">  interesting</th><th style=\"text-align: right;\">  valuable</th></tr>\n",
       "</thead>\n",
       "<tbody>\n",
       "<tr><td style=\"text-align: right;\">    22</td><td>No          </td><td style=\"text-align: right;\">          4</td><td style=\"text-align: right;\">             4</td><td style=\"text-align: right;\">                      7</td><td style=\"text-align: right;\">             5</td><td style=\"text-align: right;\">              7</td><td style=\"text-align: right;\">            5</td><td style=\"text-align: right;\">         6</td></tr>\n",
       "<tr><td style=\"text-align: right;\">    25</td><td>No          </td><td style=\"text-align: right;\">          6</td><td style=\"text-align: right;\">             4</td><td style=\"text-align: right;\">                      5</td><td style=\"text-align: right;\">             5</td><td style=\"text-align: right;\">              3</td><td style=\"text-align: right;\">            4</td><td style=\"text-align: right;\">         6</td></tr>\n",
       "<tr><td style=\"text-align: right;\">    25</td><td>Yes - BA    </td><td style=\"text-align: right;\">          7</td><td style=\"text-align: right;\">             7</td><td style=\"text-align: right;\">                      7</td><td style=\"text-align: right;\">             7</td><td style=\"text-align: right;\">              6</td><td style=\"text-align: right;\">            7</td><td style=\"text-align: right;\">         7</td></tr>\n",
       "<tr><td style=\"text-align: right;\">    24</td><td>Yes - BS    </td><td style=\"text-align: right;\">          6</td><td style=\"text-align: right;\">             5</td><td style=\"text-align: right;\">                      5</td><td style=\"text-align: right;\">             5</td><td style=\"text-align: right;\">              5</td><td style=\"text-align: right;\">            6</td><td style=\"text-align: right;\">         6</td></tr>\n",
       "<tr><td style=\"text-align: right;\">    25</td><td>Yes - BA    </td><td style=\"text-align: right;\">          6</td><td style=\"text-align: right;\">             3</td><td style=\"text-align: right;\">                      6</td><td style=\"text-align: right;\">             6</td><td style=\"text-align: right;\">              5</td><td style=\"text-align: right;\">            6</td><td style=\"text-align: right;\">         6</td></tr>\n",
       "<tr><td style=\"text-align: right;\">    25</td><td>Yes - BS    </td><td style=\"text-align: right;\">          5</td><td style=\"text-align: right;\">             5</td><td style=\"text-align: right;\">                      7</td><td style=\"text-align: right;\">             7</td><td style=\"text-align: right;\">              6</td><td style=\"text-align: right;\">            7</td><td style=\"text-align: right;\">         7</td></tr>\n",
       "<tr><td style=\"text-align: right;\">    25</td><td>Yes - BA    </td><td style=\"text-align: right;\">          7</td><td style=\"text-align: right;\">             7</td><td style=\"text-align: right;\">                      7</td><td style=\"text-align: right;\">             5</td><td style=\"text-align: right;\">              6</td><td style=\"text-align: right;\">            7</td><td style=\"text-align: right;\">         7</td></tr>\n",
       "<tr><td style=\"text-align: right;\">    24</td><td>Yes - BA    </td><td style=\"text-align: right;\">          7</td><td style=\"text-align: right;\">             7</td><td style=\"text-align: right;\">                      7</td><td style=\"text-align: right;\">             7</td><td style=\"text-align: right;\">              7</td><td style=\"text-align: right;\">            7</td><td style=\"text-align: right;\">         7</td></tr>\n",
       "<tr><td style=\"text-align: right;\">    25</td><td>Yes - BS    </td><td style=\"text-align: right;\">          7</td><td style=\"text-align: right;\">             7</td><td style=\"text-align: right;\">                      7</td><td style=\"text-align: right;\">             7</td><td style=\"text-align: right;\">              6</td><td style=\"text-align: right;\">            7</td><td style=\"text-align: right;\">         7</td></tr>\n",
       "<tr><td style=\"text-align: right;\">    22</td><td>No          </td><td style=\"text-align: right;\">          7</td><td style=\"text-align: right;\">             7</td><td style=\"text-align: right;\">                      7</td><td style=\"text-align: right;\">             7</td><td style=\"text-align: right;\">              6</td><td style=\"text-align: right;\">            7</td><td style=\"text-align: right;\">         7</td></tr>\n",
       "</tbody>\n",
       "</table>"
      ],
      "text/plain": [
       "'<table>\\n<thead>\\n<tr><th style=\"text-align: right;\">  year</th><th>comp_major  </th><th style=\"text-align: right;\">  own_notes</th><th style=\"text-align: right;\">  own_examples</th><th style=\"text-align: right;\">  programming_effective</th><th style=\"text-align: right;\">  qz_effective</th><th style=\"text-align: right;\">  understanding</th><th style=\"text-align: right;\">  interesting</th><th style=\"text-align: right;\">  valuable</th></tr>\\n</thead>\\n<tbody>\\n<tr><td style=\"text-align: right;\">    22</td><td>No          </td><td style=\"text-align: right;\">          4</td><td style=\"text-align: right;\">             4</td><td style=\"text-align: right;\">                      7</td><td style=\"text-align: right;\">             5</td><td style=\"text-align: right;\">              7</td><td style=\"text-align: right;\">            5</td><td style=\"text-align: right;\">         6</td></tr>\\n<tr><td style=\"text-align: right;\">    25</td><td>No          </td><td style=\"text-align: right;\">          6</td><td style=\"text-align: right;\">             4</td><td style=\"text-align: right;\">                      5</td><td style=\"text-align: right;\">             5</td><td style=\"text-align: right;\">              3</td><td style=\"text-align: right;\">            4</td><td style=\"text-align: right;\">         6</td></tr>\\n<tr><td style=\"text-align: right;\">    25</td><td>Yes - BA    </td><td style=\"text-align: right;\">          7</td><td style=\"text-align: right;\">             7</td><td style=\"text-align: right;\">                      7</td><td style=\"text-align: right;\">             7</td><td style=\"text-align: right;\">              6</td><td style=\"text-align: right;\">            7</td><td style=\"text-align: right;\">         7</td></tr>\\n<tr><td style=\"text-align: right;\">    24</td><td>Yes - BS    </td><td style=\"text-align: right;\">          6</td><td style=\"text-align: right;\">             5</td><td style=\"text-align: right;\">                      5</td><td style=\"text-align: right;\">             5</td><td style=\"text-align: right;\">              5</td><td style=\"text-align: right;\">            6</td><td style=\"text-align: right;\">         6</td></tr>\\n<tr><td style=\"text-align: right;\">    25</td><td>Yes - BA    </td><td style=\"text-align: right;\">          6</td><td style=\"text-align: right;\">             3</td><td style=\"text-align: right;\">                      6</td><td style=\"text-align: right;\">             6</td><td style=\"text-align: right;\">              5</td><td style=\"text-align: right;\">            6</td><td style=\"text-align: right;\">         6</td></tr>\\n<tr><td style=\"text-align: right;\">    25</td><td>Yes - BS    </td><td style=\"text-align: right;\">          5</td><td style=\"text-align: right;\">             5</td><td style=\"text-align: right;\">                      7</td><td style=\"text-align: right;\">             7</td><td style=\"text-align: right;\">              6</td><td style=\"text-align: right;\">            7</td><td style=\"text-align: right;\">         7</td></tr>\\n<tr><td style=\"text-align: right;\">    25</td><td>Yes - BA    </td><td style=\"text-align: right;\">          7</td><td style=\"text-align: right;\">             7</td><td style=\"text-align: right;\">                      7</td><td style=\"text-align: right;\">             5</td><td style=\"text-align: right;\">              6</td><td style=\"text-align: right;\">            7</td><td style=\"text-align: right;\">         7</td></tr>\\n<tr><td style=\"text-align: right;\">    24</td><td>Yes - BA    </td><td style=\"text-align: right;\">          7</td><td style=\"text-align: right;\">             7</td><td style=\"text-align: right;\">                      7</td><td style=\"text-align: right;\">             7</td><td style=\"text-align: right;\">              7</td><td style=\"text-align: right;\">            7</td><td style=\"text-align: right;\">         7</td></tr>\\n<tr><td style=\"text-align: right;\">    25</td><td>Yes - BS    </td><td style=\"text-align: right;\">          7</td><td style=\"text-align: right;\">             7</td><td style=\"text-align: right;\">                      7</td><td style=\"text-align: right;\">             7</td><td style=\"text-align: right;\">              6</td><td style=\"text-align: right;\">            7</td><td style=\"text-align: right;\">         7</td></tr>\\n<tr><td style=\"text-align: right;\">    22</td><td>No          </td><td style=\"text-align: right;\">          7</td><td style=\"text-align: right;\">             7</td><td style=\"text-align: right;\">                      7</td><td style=\"text-align: right;\">             7</td><td style=\"text-align: right;\">              6</td><td style=\"text-align: right;\">            7</td><td style=\"text-align: right;\">         7</td></tr>\\n</tbody>\\n</table>'"
      ]
     },
     "execution_count": 99,
     "metadata": {},
     "output_type": "execute_result"
    }
   ],
   "source": [
    "# Import tabulate function\n",
    "from tabulate import tabulate\n",
    "\n",
    "# Because the head function has the parameter of a column-based table, \n",
    "# we will use columnar to transform data_rows into a new variable, data_columns\n",
    "data_columns: dict[str, list[str]] = columnar(data_rows)\n",
    "\n",
    "# I'd like to now limit this function to the preselected variables that I listed\n",
    "# in the markdown above.\n",
    "data_columns_appended: dict[str, list[str]] = select(data_columns, [\"year\", \"comp_major\", \"own_notes\", \"own_examples\", \"programming_effective\", \"qz_effective\", \"understanding\", \"interesting\", \"valuable\"])\n",
    "\n",
    "# Next, I'll use the head function and set n = 10\n",
    "initial_data_col: dict[str, list[str]] = head(data_columns_appended, 10)\n",
    "tabulate(initial_data_col, initial_data_col.keys(),\"html\")"
   ]
  },
  {
   "cell_type": "markdown",
   "metadata": {},
   "source": [
    "Another anaylsis I would like to present is the number of times a student recorded a each individual integer. This will help to see if the mean is being effected by outliers (such as for example most people feel that quizes are effective and respond 5-7 but a quarter responds 1 because they don't like memory diagrams)."
   ]
  },
  {
   "cell_type": "code",
   "execution_count": 100,
   "metadata": {},
   "outputs": [
    {
     "name": "stdout",
     "output_type": "stream",
     "text": [
      "{'1': 24, '2': 31, '3': 50, '4': 79, '5': 148, '6': 140, '7': 148}\n",
      "{'1': 5, '2': 11, '3': 10, '4': 34, '5': 82, '6': 154, '7': 324}\n"
     ]
    }
   ],
   "source": [
    "# First, I'll use the qz_effective_str that I already declared and use the count\n",
    "# function to see how many times a student recorded each response.\n",
    "qz_numbered: dict[str, int] = count(qz_effective_str)\n",
    "\n",
    "# For organization, I will order them from 1 to 7\n",
    "quiz_tuple: list[tuple[str, int]] = list(qz_numbered.items())\n",
    "quiz_tuple = sorted(quiz_tuple)\n",
    "sorted_qz: dict[str, int] = dict(quiz_tuple)\n",
    "print(sorted_qz)\n",
    "\n",
    "# Next, I'll use the programming_effective_str that I already declared \n",
    "# and use the count function to see how many times a student recorded \n",
    "# each response.\n",
    "programming_numbered: dict[str, int] = count(programming_effective_str)\n",
    "\n",
    "# For organization, I will order them from 1 to 7\n",
    "programming_tuple: list[tuple[str, int]] = list(programming_numbered.items())\n",
    "programming_tuple = sorted(programming_tuple)\n",
    "sorted_programming: dict[str, int] = dict(programming_tuple)\n",
    "print(sorted_programming)"
   ]
  },
  {
   "cell_type": "markdown",
   "metadata": {},
   "source": [
    "I'd like to create a visualization of this data, which looks promising. I'm going to import pyplot from matplotlib, and give two graphs of each variable, qz_effective and programming_effective."
   ]
  },
  {
   "cell_type": "code",
   "execution_count": 101,
   "metadata": {},
   "outputs": [
    {
     "data": {
      "text/plain": [
       "<BarContainer object of 7 artists>"
      ]
     },
     "execution_count": 101,
     "metadata": {},
     "output_type": "execute_result"
    },
    {
     "data": {
      "image/png": "[encoded data removed]",
      "text/plain": [
       "<Figure size 432x288 with 1 Axes>"
      ]
     },
     "metadata": {
      "needs_background": "light"
     },
     "output_type": "display_data"
    }
   ],
   "source": [
    "from matplotlib import pyplot\n",
    "\n",
    "pyplot.title(\"Frequencies of Responses - QUIZES\")\n",
    "pyplot.xlabel(\"Numbers\")\n",
    "pyplot.ylabel(\"Counts\")\n",
    "labels: list[str] = list(sorted_qz.keys())\n",
    "values: list[int] = list(sorted_qz.values())\n",
    "pyplot.bar(labels, values)"
   ]
  },
  {
   "cell_type": "markdown",
   "metadata": {},
   "source": [
    "Next, I'll do the same for programming"
   ]
  },
  {
   "cell_type": "code",
   "execution_count": 102,
   "metadata": {},
   "outputs": [
    {
     "data": {
      "text/plain": [
       "<BarContainer object of 7 artists>"
      ]
     },
     "execution_count": 102,
     "metadata": {},
     "output_type": "execute_result"
    },
    {
     "data": {
      "image/png": "[encoded data removed]",
      "text/plain": [
       "<Figure size 432x288 with 1 Axes>"
      ]
     },
     "metadata": {
      "needs_background": "light"
     },
     "output_type": "display_data"
    }
   ],
   "source": [
    "pyplot.title(\"Frequencies of Responses - PORGRAMMING\")\n",
    "pyplot.xlabel(\"Numbers\")\n",
    "pyplot.ylabel(\"Counts\")\n",
    "labels: list[str] = list(sorted_programming.keys())\n",
    "values: list[int] = list(sorted_programming.values())\n",
    "pyplot.bar(labels, values)"
   ]
  },
  {
   "cell_type": "markdown",
   "metadata": {},
   "source": [
    "For the last portion of my code, I will utilize a new function that I create in data_utils which takes a list[str, int] as a parameter and returns a list[str, int] containing only the values less than some number which I will choose to be 50."
   ]
  },
  {
   "cell_type": "code",
   "execution_count": 107,
   "metadata": {},
   "outputs": [
    {
     "name": "stdout",
     "output_type": "stream",
     "text": [
      "There were 184 responses of 4 or lower for qz_effective.\n",
      "There were 60 responses of 4 or lower for programming_effective.\n"
     ]
    }
   ],
   "source": [
    "# Calling the threshold function on both sorted lists and \n",
    "# anaylizing what that number means\n",
    "from data_utils import threshold\n",
    "\n",
    "thres_qz: dict[str, int] = threshold(sorted_qz, 5)\n",
    "thres_programming: dict[str, int] = threshold(sorted_programming, 5)\n",
    "\n",
    "print(f\"There were {thres_qz} responses of 4 or lower for qz_effective.\")\n",
    "print(f\"There were {thres_programming} responses of 4 or lower for programming_effective.\")"
   ]
  },
  {
   "cell_type": "markdown",
   "metadata": {},
   "source": [
    "## Conclusion\n",
    "\n",
    "In the following markdown cell, write a reflective conclusion given the analysis you performed and identify recommendations.\n",
    "\n",
    "If your analysis of the data supports your idea, state your recommendation for the change and summarize the data analysys results you found which support it. Additionally, describe any extensions or refinements to this idea which might be explored further. Finally, discuss the potential costs, trade-offs, or stakeholders who may be negatively impacted by this proposed change.\n",
    "\n",
    "If your analysis of the data is inconclusive, summarize why your data analysis results were inconclusive in the support of your idea. Additionally, describe what experimental idea implementation or additional data collection might help build more confidence in assessing your idea. Finally, discuss the potential costs, trade-offs, or stakeholders who may be negatively impacted by experimenting with your idea.\n",
    "\n",
    "Finally, if your analysis of the data does not support it, summarize your data analysis results and why it refutes your idea. Discuss the potential costs, trade-offs, or stakeholders who may be negatively impacted by this proposed change. If you disagree with the validity of the findings, describe why your idea still makes sense to implement and what alternative data would better support it. If you agree with the validity of the data analysis, describe what alternate ideas or extensions you would explore instead. "
   ]
  },
  {
   "cell_type": "markdown",
   "metadata": {},
   "source": [
    "### Part 5. Conclusion\n",
    "\n",
    "My guiding recommendation throughout the analysis was: the course should redistribute the grading breakdown to place a greater emphasis on projects rather than exams because ultimately coding is the most influential tell in a programmer's understanding of a language. This would help students because they would allocate more time actually coding rather than preparing for concepts exams stress more comparatively like syntax vs. actual program development. I've found that while enrolled in comp 110, programs emphasis creativity, critical thinking, and application more than quizes, which I've found place a strain on memorizing syntax, tricks, etc. \n",
    "While looking at the data, I tried to highlight the qz_effective and programming_effective the most. These stats reveals how much preparing for quizzes and developing programs respectively are effective in helping the student learn the topics of the course. Possible values (1 being Strongly Disagree and 7 being Strongly Agree): 1, 2, 3, 4, 5, 6, 7. I found the average numerical response for quizes to be ~5.11 whereas programs was a ~6.12. Moreover, I sought to uncover if a particular subset of students who really think little programs/quizes to skew the data. I filtered the counts for numerical reponse under 5, which I thought would be a good tell of a student disagreeing with the program/quiz's effectiveness. I found there to be 184 answers of a x<5 for quiz and 60 answers of a x<5 for the programs. Overall, both of these stats support my suggestion. \n",
    "If I were to continue this assignment, I would try to see if these people who disagreed for quizes had any similarities (maybe they're non comp majors, or maybe they're upper classmen, etc.). A tradeoff would be a less competent coder on paper with a pencil as there would be less of an incentive to memorize syntax that isn't available when you're not on vs code.\n",
    "If I were to continue to refine this idea, I would think about potentially merging programs and quizes with a timed, vs code quiz that asks to create some exercise, with the resources of vs code in the classroom under X minutes. I'd also maybe propose the change in a survey and see if people would agree with it. A benefit to the workforce and students would be more efficient coders under time and the students would have a similar enviornment with these tests as they might in interviews."
   ]
  }
 ],
 "metadata": {
  "interpreter": {
   "hash": "aee8b7b246df8f9039afb4144a1f6fd8d2ca17a180786b69acc140d282b71a49"
  },
  "kernelspec": {
   "display_name": "Python 3.10.2 64-bit",
   "language": "python",
   "name": "python3"
  },
  "language_info": {
   "codemirror_mode": {
    "name": "ipython",
    "version": 3
   },
   "file_extension": ".py",
   "mimetype": "text/x-python",
   "name": "python",
   "nbconvert_exporter": "python",
   "pygments_lexer": "ipython3",
   "version": "3.10.1"
  },
  "orig_nbformat": 4
 },
 "nbformat": 4,
 "nbformat_minor": 2
}
